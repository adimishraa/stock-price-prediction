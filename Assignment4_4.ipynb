{
 "cells": [
  {
   "cell_type": "code",
   "execution_count": 7,
   "metadata": {},
   "outputs": [],
   "source": [
    "import numpy as np\n",
    "from matplotlib import pyplot as plt"
   ]
  },
  {
   "cell_type": "code",
   "execution_count": 8,
   "metadata": {},
   "outputs": [],
   "source": [
    "with open('nasdaq00.txt','r') as nd:\n",
    "    lines=nd.readlines()\n",
    "data=[]\n",
    "for line in lines:\n",
    "    data.append(float(line.split('\\n')[0]))\n",
    "with open('nasdaq01.txt','r') as nd2:\n",
    "    lines=nd2.readlines()\n",
    "data2=[]\n",
    "for line in lines:\n",
    "    data2.append(float(line.split('\\n')[0]))"
   ]
  },
  {
   "cell_type": "code",
   "execution_count": 9,
   "metadata": {},
   "outputs": [],
   "source": [
    "Asum=0\n",
    "Bsum=0\n",
    "xlist=np.zeros([3,1])\n",
    "for i in range(3,len(data)):\n",
    "    xlist[0]=data[i-1]\n",
    "    xlist[1]=data[i-2]\n",
    "    xlist[2]=data[i-3]\n",
    "    Asum+=np.matmul((xlist),(np.transpose(xlist)))\n",
    "    Bsum+=data[i]*xlist\n"
   ]
  },
  {
   "cell_type": "code",
   "execution_count": 10,
   "metadata": {},
   "outputs": [],
   "source": [
    "\n",
    "w=np.matmul((np.linalg.inv(Asum)),Bsum)"
   ]
  },
  {
   "cell_type": "code",
   "execution_count": 11,
   "metadata": {},
   "outputs": [
    {
     "name": "stdout",
     "output_type": "stream",
     "text": [
      "a1= [0.95067337]\n",
      "a2= [0.01560133]\n",
      "a3= [0.03189569]\n"
     ]
    }
   ],
   "source": [
    "print('a1= '+str(w[0]))\n",
    "print('a2= '+str(w[1]))\n",
    "print('a3= '+str(w[2]))\n"
   ]
  },
  {
   "cell_type": "code",
   "execution_count": 12,
   "metadata": {},
   "outputs": [],
   "source": [
    "logprob=0\n",
    "mserror=[]\n",
    "logconst=np.log((2*np.pi)**(-0.5))\n",
    "for i in range(3,len(data)):\n",
    "    logprob+=(logconst-0.5*(data[i]-w[0]*data[i-1]-w[1]*data[i-2]-w[2]*data[i-3])**2)\n",
    "    mserror.append((data[i]-w[0]*data[i-1]-w[1]*data[i-2]-w[2]*data[i-3])**2)\n",
    "mse=np.sum(mserror)/len(mserror)"
   ]
  },
  {
   "cell_type": "code",
   "execution_count": 13,
   "metadata": {},
   "outputs": [
    {
     "name": "stdout",
     "output_type": "stream",
     "text": [
      "the maximum log likelihood for 2000 is: -1710221.3912724187\n"
     ]
    }
   ],
   "source": [
    "print('the maximum log likelihood for 2000 is: '+str(float(logprob)))"
   ]
  },
  {
   "cell_type": "code",
   "execution_count": 14,
   "metadata": {},
   "outputs": [],
   "source": [
    "mserror2=[]\n",
    "for i in range(3,len(data2)):\n",
    "    mserror2.append((data2[i]-w[0]*data2[i-1]-w[1]*data2[i-2]-w[2]*data2[i-3])**2)\n",
    "mse2=np.sum(mserror2)/len(mserror2)\n"
   ]
  },
  {
   "cell_type": "code",
   "execution_count": 15,
   "metadata": {},
   "outputs": [
    {
     "name": "stdout",
     "output_type": "stream",
     "text": [
      "MSE loss for 2000 13902.401076367889\n",
      "MSE loss for 2001 2985.0979241105597\n"
     ]
    }
   ],
   "source": [
    "print('MSE loss for 2000 '+ str(mse))\n",
    "print('MSE loss for 2001 '+ str(mse2))"
   ]
  },
  {
   "cell_type": "code",
   "execution_count": null,
   "metadata": {},
   "outputs": [],
   "source": []
  }
 ],
 "metadata": {
  "kernelspec": {
   "display_name": "Python 3",
   "language": "python",
   "name": "python3"
  },
  "language_info": {
   "codemirror_mode": {
    "name": "ipython",
    "version": 3
   },
   "file_extension": ".py",
   "mimetype": "text/x-python",
   "name": "python",
   "nbconvert_exporter": "python",
   "pygments_lexer": "ipython3",
   "version": "3.7.3"
  }
 },
 "nbformat": 4,
 "nbformat_minor": 2
}
